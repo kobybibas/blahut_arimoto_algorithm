{
 "cells": [
  {
   "cell_type": "markdown",
   "metadata": {},
   "source": [
    "# Blauth-Arimotho Algorithm\n",
    "Assuming X and Y as input and output variables of the channel respectively and r(x) is the input distributions. <br>\n",
    "The capacity of a channel is defined by <br>\n",
    "$C = \\max_{r(x)} I(X;Y) = \\max_{r(x)} \\sum_{x} \\sum_{y} r(x) p(y|x) \\log \\frac{r(x) p(y|x)}{r(x) \\sum_{\\tilde{x}} r(\\tilde{x})p(y|\\tilde{x})}$"
   ]
  },
  {
   "cell_type": "code",
   "execution_count": 1,
   "metadata": {},
   "outputs": [],
   "source": [
    "import numpy as np\n",
    "\n",
    "\n",
    "def blahut_arimoto(p_y_x: np.ndarray,  log_base: float = 2, thresh: float = 1e-12, max_iter: int = 1e3) -> tuple:\n",
    "    '''\n",
    "    Maximize the capacity between I(X;Y)\n",
    "    p_y_x: each row represnets probability assinmnet\n",
    "    log_base: the base of the log when calaculating the capacity\n",
    "    thresh: the threshold of the update, finish the calculation when gettting to it.\n",
    "    max_iter: the maximum iterations of the calculation\n",
    "    '''\n",
    "\n",
    "    # Input test\n",
    "    assert np.abs(p_y_x.sum(axis=1).mean() - 1) < 1e-6\n",
    "    assert p_y_x.shape[0] > 1\n",
    "\n",
    "    # The number of inputs: size of |X|\n",
    "    m = p_y_x.shape[0]\n",
    "\n",
    "    # The number of outputs: size of |Y|\n",
    "    n = p_y_x.shape[1]\n",
    "\n",
    "    # Initialize the prior uniformly\n",
    "    r = np.ones((1, m)) / m\n",
    "\n",
    "    # Compute the r(x) that maximizes the capacity\n",
    "    for iteration in range(int(max_iter)):\n",
    "\n",
    "        q = r.T * p_y_x\n",
    "        q = q / np.sum(q, axis=0)\n",
    "\n",
    "        r1 = np.prod(np.power(q, p_y_x), axis=1)\n",
    "        r1 = r1 / np.sum(r1)\n",
    "\n",
    "        tolerance = np.linalg.norm(r1 - r)\n",
    "        r = r1\n",
    "        if tolerance < thresh:\n",
    "            break\n",
    "\n",
    "    # Calculate the capacity\n",
    "    r = r.flatten()\n",
    "    c = 0\n",
    "    for i in range(m):\n",
    "        if r[i] > 0:\n",
    "            c += np.sum(r[i] * p_y_x[i, :] *\n",
    "                        np.log(q[i, :] / r[i] + 1e-16))\n",
    "    c = c / np.log(log_base)\n",
    "    return c, r\n"
   ]
  },
  {
   "cell_type": "markdown",
   "metadata": {},
   "source": [
    "# Example"
   ]
  },
  {
   "cell_type": "markdown",
   "metadata": {},
   "source": [
    "## Binary symmetric channel\n",
    "The BSC is a binary channel; that is, it can transmit only one of two symbols (usually called 0 and 1). <br>\n",
    "The transmission is not perfect, and occasionally the receiver gets the wrong bit.  <br> \n",
    "The capacity of this channel  <br> \n",
    "$C = 1 - H_b(P_e)$"
   ]
  },
  {
   "cell_type": "code",
   "execution_count": 2,
   "metadata": {},
   "outputs": [
    {
     "name": "stdout",
     "output_type": "stream",
     "text": [
      "Capacity:  0.2780719051126379\n",
      "The prior:  [0.5 0.5]\n",
      "Anatliyic capacity:  0.2780719051126377\n"
     ]
    }
   ],
   "source": [
    "e = 0.2\n",
    "p1 = [1-e, e]\n",
    "p2 = [e, 1-e]\n",
    "p_y_x = np.asarray([p1, p2])\n",
    "C, r = blahut_arimoto(p_y_x)\n",
    "print('Capacity: ', C)\n",
    "print('The prior: ', r)\n",
    "\n",
    "# The analytic solution of the capaciy\n",
    "H_P_e = - e * np.log2(e) - (1-e) * np.log2(1-e)\n",
    "print('Anatliyic capacity: ', (1 - H_P_e))\n"
   ]
  },
  {
   "cell_type": "markdown",
   "metadata": {},
   "source": [
    "## Erasure channel\n",
    "A binary erasure channel (or BEC) is a common communications channel.  <br> \n",
    "In this model, a transmitter sends a bit (a zero or a one), and the receiver either receives the bit or it receives a message that the bit was not received (\"erased\").  <br> \n",
    "The capacity of this channel is  <br> \n",
    "$C = 1 - P_e$."
   ]
  },
  {
   "cell_type": "code",
   "execution_count": 3,
   "metadata": {},
   "outputs": [
    {
     "name": "stdout",
     "output_type": "stream",
     "text": [
      "Capacity:  0.9\n",
      "The prior:  [0.5 0.5]\n",
      "Anatliyic capacity:  0.9\n"
     ]
    }
   ],
   "source": [
    "e = 0.1\n",
    "p1 = [1-e, e, 0]\n",
    "p2 = [0, e, 1-e]\n",
    "p_y_x = np.asarray([p1, p2])\n",
    "C, r = blahut_arimoto(p_y_x, log_base=2)\n",
    "print('Capacity: ', C)\n",
    "print('The prior: ', r)\n",
    "\n",
    "# The analytic solution of the capaciy\n",
    "print('Anatliyic capacity: ', (1 - e))\n"
   ]
  },
  {
   "cell_type": "markdown",
   "metadata": {},
   "source": [
    "# Converting to executable \n",
    "Create python file that could be imported to another file."
   ]
  },
  {
   "cell_type": "code",
   "execution_count": 4,
   "metadata": {},
   "outputs": [
    {
     "name": "stdout",
     "output_type": "stream",
     "text": [
      "[NbConvertApp] Converting notebook blahut_arimoto_algorithm.ipynb to python\n",
      "[NbConvertApp] Writing 3137 bytes to ./blahut_arimoto_algorithm.py\n"
     ]
    }
   ],
   "source": [
    "! jupyter nbconvert blahut_arimoto_algorithm.ipynb --to=\"python\" --output-dir ."
   ]
  },
  {
   "cell_type": "code",
   "execution_count": null,
   "metadata": {},
   "outputs": [],
   "source": []
  }
 ],
 "metadata": {
  "kernelspec": {
   "display_name": "Python 3",
   "language": "python",
   "name": "python3"
  },
  "language_info": {
   "codemirror_mode": {
    "name": "ipython",
    "version": 3
   },
   "file_extension": ".py",
   "mimetype": "text/x-python",
   "name": "python",
   "nbconvert_exporter": "python",
   "pygments_lexer": "ipython3",
   "version": "3.6.7"
  }
 },
 "nbformat": 4,
 "nbformat_minor": 4
}
